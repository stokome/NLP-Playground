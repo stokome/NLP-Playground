{
  "nbformat": 4,
  "nbformat_minor": 0,
  "metadata": {
    "colab": {
      "provenance": []
    },
    "kernelspec": {
      "name": "python3",
      "display_name": "Python 3"
    },
    "language_info": {
      "name": "python"
    }
  },
  "cells": [
    {
      "cell_type": "code",
      "execution_count": 1,
      "metadata": {
        "id": "zulT2CPhXfjj"
      },
      "outputs": [],
      "source": [
        "from tensorflow.keras.preprocessing.text import one_hot\n"
      ]
    },
    {
      "cell_type": "code",
      "source": [
        "sent=[  'the glass of milk',\n",
        "     'the glass of juice',\n",
        "     'the cup of tea',\n",
        "    'I am a good boy',\n",
        "     'I am a good developer',\n",
        "     'understand the meaning of words',\n",
        "     'your videos are good',]\n",
        "sent"
      ],
      "metadata": {
        "colab": {
          "base_uri": "https://localhost:8080/"
        },
        "id": "wy0iWak1XqUY",
        "outputId": "dd04fde6-2c96-4007-80b0-d469a7a9b6ee"
      },
      "execution_count": 2,
      "outputs": [
        {
          "output_type": "execute_result",
          "data": {
            "text/plain": [
              "['the glass of milk',\n",
              " 'the glass of juice',\n",
              " 'the cup of tea',\n",
              " 'I am a good boy',\n",
              " 'I am a good developer',\n",
              " 'understand the meaning of words',\n",
              " 'your videos are good']"
            ]
          },
          "metadata": {},
          "execution_count": 2
        }
      ]
    },
    {
      "cell_type": "code",
      "source": [
        "vocab_size = 50"
      ],
      "metadata": {
        "id": "HAaRmSisXwzl"
      },
      "execution_count": 37,
      "outputs": []
    },
    {
      "cell_type": "code",
      "source": [
        "onehot_v = [one_hot(words, vocab_size) for words in sent]\n",
        "onehot_v"
      ],
      "metadata": {
        "colab": {
          "base_uri": "https://localhost:8080/"
        },
        "id": "KnDXs2HAX0TJ",
        "outputId": "8e511374-6bd8-4db6-fdb1-35e26a594213"
      },
      "execution_count": 38,
      "outputs": [
        {
          "output_type": "execute_result",
          "data": {
            "text/plain": [
              "[[9, 25, 7, 31],\n",
              " [9, 25, 7, 45],\n",
              " [9, 10, 7, 43],\n",
              " [23, 11, 45, 42, 26],\n",
              " [23, 11, 45, 42, 16],\n",
              " [11, 9, 17, 7, 32],\n",
              " [39, 17, 43, 42]]"
            ]
          },
          "metadata": {},
          "execution_count": 38
        }
      ]
    },
    {
      "cell_type": "code",
      "source": [
        "from tensorflow.keras.layers import Embedding\n",
        "from tensorflow.keras.preprocessing.sequence import pad_sequences\n",
        "from tensorflow.keras.models import Sequential\n",
        "import numpy as np"
      ],
      "metadata": {
        "id": "G-tGS-haYIrP"
      },
      "execution_count": 39,
      "outputs": []
    },
    {
      "cell_type": "code",
      "source": [
        "senLen = 5\n",
        "embedded_docs = pad_sequences(onehot_v, padding = 'post', maxlen = senLen)\n",
        "print(embedded_docs)"
      ],
      "metadata": {
        "colab": {
          "base_uri": "https://localhost:8080/"
        },
        "id": "N4hi-0ITYbgM",
        "outputId": "e19d9c1f-f23e-46aa-ddb6-711db62282a9"
      },
      "execution_count": 40,
      "outputs": [
        {
          "output_type": "stream",
          "name": "stdout",
          "text": [
            "[[ 9 25  7 31  0]\n",
            " [ 9 25  7 45  0]\n",
            " [ 9 10  7 43  0]\n",
            " [23 11 45 42 26]\n",
            " [23 11 45 42 16]\n",
            " [11  9 17  7 32]\n",
            " [39 17 43 42  0]]\n"
          ]
        }
      ]
    },
    {
      "cell_type": "code",
      "source": [
        "dim = 10"
      ],
      "metadata": {
        "id": "9BUY5oKjZaCC"
      },
      "execution_count": 46,
      "outputs": []
    },
    {
      "cell_type": "code",
      "source": [
        "model = Sequential()\n",
        "model.add(Embedding(vocab_size, dim, input_length = senLen))\n",
        "model.compile('adam', 'mse')\n",
        "model.summary()"
      ],
      "metadata": {
        "colab": {
          "base_uri": "https://localhost:8080/"
        },
        "id": "2PAVXDeKYwDz",
        "outputId": "11a3b0d1-6faf-41a5-f4d6-788768a1acbb"
      },
      "execution_count": 47,
      "outputs": [
        {
          "output_type": "stream",
          "name": "stdout",
          "text": [
            "Model: \"sequential_9\"\n",
            "_________________________________________________________________\n",
            " Layer (type)                Output Shape              Param #   \n",
            "=================================================================\n",
            " embedding_8 (Embedding)     (None, 5, 10)             500       \n",
            "                                                                 \n",
            "=================================================================\n",
            "Total params: 500\n",
            "Trainable params: 500\n",
            "Non-trainable params: 0\n",
            "_________________________________________________________________\n"
          ]
        }
      ]
    },
    {
      "cell_type": "code",
      "source": [
        "print(model.predict(embedded_docs))"
      ],
      "metadata": {
        "colab": {
          "base_uri": "https://localhost:8080/"
        },
        "id": "eGloGO5BZD1z",
        "outputId": "5fc69fba-a997-4cb1-cef5-50ccdcf4f515"
      },
      "execution_count": 43,
      "outputs": [
        {
          "output_type": "stream",
          "name": "stderr",
          "text": [
            "WARNING:tensorflow:6 out of the last 6 calls to <function Model.make_predict_function.<locals>.predict_function at 0x7eff7a15aaf0> triggered tf.function retracing. Tracing is expensive and the excessive number of tracings could be due to (1) creating @tf.function repeatedly in a loop, (2) passing tensors with different shapes, (3) passing Python objects instead of tensors. For (1), please define your @tf.function outside of the loop. For (2), @tf.function has reduce_retracing=True option that can avoid unnecessary retracing. For (3), please refer to https://www.tensorflow.org/guide/function#controlling_retracing and https://www.tensorflow.org/api_docs/python/tf/function for  more details.\n"
          ]
        },
        {
          "output_type": "stream",
          "name": "stdout",
          "text": [
            "1/1 [==============================] - 0s 45ms/step\n",
            "[[[-6.9627538e-03 -6.5797083e-03]\n",
            "  [-1.7202746e-02 -2.9778421e-02]\n",
            "  [ 3.9511394e-02 -4.5876574e-02]\n",
            "  [ 3.3964101e-02  2.7240228e-02]\n",
            "  [-4.3586876e-02 -4.7925569e-02]]\n",
            "\n",
            " [[-6.9627538e-03 -6.5797083e-03]\n",
            "  [-1.7202746e-02 -2.9778421e-02]\n",
            "  [ 3.9511394e-02 -4.5876574e-02]\n",
            "  [-2.8462565e-02  3.1530034e-02]\n",
            "  [-4.3586876e-02 -4.7925569e-02]]\n",
            "\n",
            " [[-6.9627538e-03 -6.5797083e-03]\n",
            "  [ 2.2567809e-05  4.7254030e-02]\n",
            "  [ 3.9511394e-02 -4.5876574e-02]\n",
            "  [ 2.4751630e-02 -1.1904202e-02]\n",
            "  [-4.3586876e-02 -4.7925569e-02]]\n",
            "\n",
            " [[ 3.8487744e-02  3.1882595e-02]\n",
            "  [-1.6236089e-02  3.2746401e-02]\n",
            "  [-2.8462565e-02  3.1530034e-02]\n",
            "  [ 1.9220863e-02 -3.9199840e-02]\n",
            "  [ 3.4347627e-02 -6.3290447e-04]]\n",
            "\n",
            " [[ 3.8487744e-02  3.1882595e-02]\n",
            "  [-1.6236089e-02  3.2746401e-02]\n",
            "  [-2.8462565e-02  3.1530034e-02]\n",
            "  [ 1.9220863e-02 -3.9199840e-02]\n",
            "  [ 4.2913903e-02 -1.6997539e-02]]\n",
            "\n",
            " [[-1.6236089e-02  3.2746401e-02]\n",
            "  [-6.9627538e-03 -6.5797083e-03]\n",
            "  [-7.2787032e-03  6.0191266e-03]\n",
            "  [ 3.9511394e-02 -4.5876574e-02]\n",
            "  [-2.4911856e-02  4.2167250e-02]]\n",
            "\n",
            " [[ 4.1876171e-02 -7.6542012e-03]\n",
            "  [-7.2787032e-03  6.0191266e-03]\n",
            "  [ 2.4751630e-02 -1.1904202e-02]\n",
            "  [ 1.9220863e-02 -3.9199840e-02]\n",
            "  [-4.3586876e-02 -4.7925569e-02]]]\n"
          ]
        }
      ]
    },
    {
      "cell_type": "code",
      "source": [],
      "metadata": {
        "id": "UteZgoQsZKtS"
      },
      "execution_count": null,
      "outputs": []
    }
  ]
}